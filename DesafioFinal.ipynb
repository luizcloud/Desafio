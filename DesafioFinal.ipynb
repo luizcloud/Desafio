{
 "cells": [
  {
   "cell_type": "markdown",
   "metadata": {},
   "source": [
    "## Desafio Final"
   ]
  },
  {
   "cell_type": "code",
   "execution_count": 20,
   "metadata": {},
   "outputs": [],
   "source": [
    "# Importando as bibliotecas necessárias\n",
    "import pandas as pd\n",
    "import matplotlib.pyplot as plt\n",
    "import numpy as np\n",
    "import os"
   ]
  },
  {
   "cell_type": "code",
   "execution_count": 21,
   "metadata": {},
   "outputs": [],
   "source": [
    "# Atribuindo a uma variável o caminho onde está armazenado os arquivos\n",
    "DIRETORIO = \"C:\\\\Users\\\\Luiz Felix\\\\Documents\\\\Projetos\\\\Pesquisa\""
   ]
  },
  {
   "cell_type": "code",
   "execution_count": 22,
   "metadata": {},
   "outputs": [],
   "source": [
    "lista_df = []   # cria uma lista vazia\n",
    "lisa_path = os.listdir(DIRETORIO)   # criando uma lista com todos os arquivos"
   ]
  },
  {
   "cell_type": "code",
   "execution_count": 23,
   "metadata": {},
   "outputs": [
    {
     "data": {
      "text/plain": [
       "['2020-01-01.csv',\n",
       " '2020-01-02.csv',\n",
       " '2020-01-03.csv',\n",
       " '2020-01-04.csv',\n",
       " '2020-01-05.csv']"
      ]
     },
     "execution_count": 23,
     "metadata": {},
     "output_type": "execute_result"
    }
   ],
   "source": [
    "lisa_path[:5]   # visualizando a lista"
   ]
  },
  {
   "cell_type": "code",
   "execution_count": 24,
   "metadata": {},
   "outputs": [],
   "source": [
    "# agora abrindo cada arquivo e coletando os seus dados\n",
    "lista_df = []   # criando uma lista vazia\n",
    "for arquivo in lisa_path:\n",
    "    local_arquivo = os.path.join(DIRETORIO, arquivo)\n",
    "    df = pd.read_csv(local_arquivo, sep='|', encoding='latin-1')\n",
    "    lista_df.append(df)\n",
    "    df_pesquisa = pd.concat(lista_df)   # atribuindo os dados coletados em um dataframe"
   ]
  },
  {
   "cell_type": "code",
   "execution_count": 25,
   "metadata": {},
   "outputs": [
    {
     "data": {
      "text/html": [
       "<div>\n",
       "<style scoped>\n",
       "    .dataframe tbody tr th:only-of-type {\n",
       "        vertical-align: middle;\n",
       "    }\n",
       "\n",
       "    .dataframe tbody tr th {\n",
       "        vertical-align: top;\n",
       "    }\n",
       "\n",
       "    .dataframe thead th {\n",
       "        text-align: right;\n",
       "    }\n",
       "</style>\n",
       "<table border=\"1\" class=\"dataframe\">\n",
       "  <thead>\n",
       "    <tr style=\"text-align: right;\">\n",
       "      <th></th>\n",
       "      <th>cod_pessoa</th>\n",
       "      <th>data_coleta</th>\n",
       "      <th>genero</th>\n",
       "      <th>data_nascimento</th>\n",
       "      <th>animal_estimacao</th>\n",
       "      <th>clima</th>\n",
       "      <th>bebida_favorita</th>\n",
       "      <th>hobbies</th>\n",
       "    </tr>\n",
       "  </thead>\n",
       "  <tbody>\n",
       "    <tr>\n",
       "      <th>0</th>\n",
       "      <td>10141743</td>\n",
       "      <td>2020-01-01</td>\n",
       "      <td>Masculino</td>\n",
       "      <td>1981-04-25</td>\n",
       "      <td>peixe</td>\n",
       "      <td>frio</td>\n",
       "      <td>Cerveja</td>\n",
       "      <td>Praticar esporte</td>\n",
       "    </tr>\n",
       "    <tr>\n",
       "      <th>1</th>\n",
       "      <td>10141860</td>\n",
       "      <td>2020-01-01</td>\n",
       "      <td>Feminino</td>\n",
       "      <td>1966-01-19</td>\n",
       "      <td>peixe</td>\n",
       "      <td>quente</td>\n",
       "      <td>Café</td>\n",
       "      <td>Assistir TV</td>\n",
       "    </tr>\n",
       "    <tr>\n",
       "      <th>2</th>\n",
       "      <td>10142548</td>\n",
       "      <td>2020-01-01</td>\n",
       "      <td>Masculino</td>\n",
       "      <td>1973-08-02</td>\n",
       "      <td>tartaruga</td>\n",
       "      <td>frio</td>\n",
       "      <td>Café</td>\n",
       "      <td>Ler livros</td>\n",
       "    </tr>\n",
       "    <tr>\n",
       "      <th>3</th>\n",
       "      <td>10142591</td>\n",
       "      <td>2020-01-01</td>\n",
       "      <td>Masculino</td>\n",
       "      <td>1997-03-05</td>\n",
       "      <td>gato</td>\n",
       "      <td>moderado</td>\n",
       "      <td>Cerveja</td>\n",
       "      <td>Aprender algo novo</td>\n",
       "    </tr>\n",
       "    <tr>\n",
       "      <th>4</th>\n",
       "      <td>10142654</td>\n",
       "      <td>2020-01-01</td>\n",
       "      <td>Feminino</td>\n",
       "      <td>1969-08-05</td>\n",
       "      <td>tartaruga</td>\n",
       "      <td>moderado</td>\n",
       "      <td>Café</td>\n",
       "      <td>Assistir TV</td>\n",
       "    </tr>\n",
       "    <tr>\n",
       "      <th>0</th>\n",
       "      <td>10141523</td>\n",
       "      <td>2020-01-02</td>\n",
       "      <td>Feminino</td>\n",
       "      <td>1998-09-24</td>\n",
       "      <td>gato</td>\n",
       "      <td>quente</td>\n",
       "      <td>Cerveja</td>\n",
       "      <td>Aprender algo novo</td>\n",
       "    </tr>\n",
       "    <tr>\n",
       "      <th>1</th>\n",
       "      <td>10141996</td>\n",
       "      <td>2020-01-02</td>\n",
       "      <td>Feminino</td>\n",
       "      <td>1973-03-13</td>\n",
       "      <td>tartaruga</td>\n",
       "      <td>quente</td>\n",
       "      <td>refrigerante</td>\n",
       "      <td>Escrever</td>\n",
       "    </tr>\n",
       "    <tr>\n",
       "      <th>2</th>\n",
       "      <td>10142089</td>\n",
       "      <td>2020-01-02</td>\n",
       "      <td>Feminino</td>\n",
       "      <td>1970-03-23</td>\n",
       "      <td>gato</td>\n",
       "      <td>moderado</td>\n",
       "      <td>Água</td>\n",
       "      <td>Pintar quadros</td>\n",
       "    </tr>\n",
       "    <tr>\n",
       "      <th>3</th>\n",
       "      <td>10142145</td>\n",
       "      <td>2020-01-02</td>\n",
       "      <td>Masculino</td>\n",
       "      <td>1998-08-01</td>\n",
       "      <td>peixe</td>\n",
       "      <td>frio</td>\n",
       "      <td>refrigerante</td>\n",
       "      <td>Escrever</td>\n",
       "    </tr>\n",
       "    <tr>\n",
       "      <th>4</th>\n",
       "      <td>10142520</td>\n",
       "      <td>2020-01-02</td>\n",
       "      <td>Masculino</td>\n",
       "      <td>1994-05-09</td>\n",
       "      <td>peixe</td>\n",
       "      <td>moderado</td>\n",
       "      <td>Café</td>\n",
       "      <td>Praticar esporte</td>\n",
       "    </tr>\n",
       "  </tbody>\n",
       "</table>\n",
       "</div>"
      ],
      "text/plain": [
       "   cod_pessoa data_coleta     genero data_nascimento animal_estimacao  \\\n",
       "0    10141743  2020-01-01  Masculino      1981-04-25            peixe   \n",
       "1    10141860  2020-01-01   Feminino      1966-01-19            peixe   \n",
       "2    10142548  2020-01-01  Masculino      1973-08-02        tartaruga   \n",
       "3    10142591  2020-01-01  Masculino      1997-03-05             gato   \n",
       "4    10142654  2020-01-01   Feminino      1969-08-05        tartaruga   \n",
       "0    10141523  2020-01-02   Feminino      1998-09-24             gato   \n",
       "1    10141996  2020-01-02   Feminino      1973-03-13        tartaruga   \n",
       "2    10142089  2020-01-02   Feminino      1970-03-23             gato   \n",
       "3    10142145  2020-01-02  Masculino      1998-08-01            peixe   \n",
       "4    10142520  2020-01-02  Masculino      1994-05-09            peixe   \n",
       "\n",
       "      clima bebida_favorita             hobbies  \n",
       "0      frio         Cerveja    Praticar esporte  \n",
       "1    quente            Café         Assistir TV  \n",
       "2      frio            Café          Ler livros  \n",
       "3  moderado         Cerveja  Aprender algo novo  \n",
       "4  moderado            Café         Assistir TV  \n",
       "0    quente         Cerveja  Aprender algo novo  \n",
       "1    quente    refrigerante            Escrever  \n",
       "2  moderado            Água      Pintar quadros  \n",
       "3      frio    refrigerante            Escrever  \n",
       "4  moderado            Café    Praticar esporte  "
      ]
     },
     "execution_count": 25,
     "metadata": {},
     "output_type": "execute_result"
    }
   ],
   "source": [
    "df_pesquisa[:10]   # visualisando os dados"
   ]
  },
  {
   "cell_type": "code",
   "execution_count": 26,
   "metadata": {},
   "outputs": [
    {
     "data": {
      "text/plain": [
       "cod_pessoa          0\n",
       "data_coleta         0\n",
       "genero              0\n",
       "data_nascimento     0\n",
       "animal_estimacao    0\n",
       "clima               0\n",
       "bebida_favorita     0\n",
       "hobbies             0\n",
       "dtype: int64"
      ]
     },
     "execution_count": 26,
     "metadata": {},
     "output_type": "execute_result"
    }
   ],
   "source": [
    "df_pesquisa.isnull().sum().sort_values(ascending=False)"
   ]
  },
  {
   "cell_type": "code",
   "execution_count": 27,
   "metadata": {},
   "outputs": [
    {
     "name": "stdout",
     "output_type": "stream",
     "text": [
      "<class 'pandas.core.frame.DataFrame'>\n",
      "Index: 2127 entries, 0 to 5\n",
      "Data columns (total 8 columns):\n",
      " #   Column            Non-Null Count  Dtype \n",
      "---  ------            --------------  ----- \n",
      " 0   cod_pessoa        2127 non-null   int64 \n",
      " 1   data_coleta       2127 non-null   object\n",
      " 2   genero            2127 non-null   object\n",
      " 3   data_nascimento   2127 non-null   object\n",
      " 4   animal_estimacao  2127 non-null   object\n",
      " 5   clima             2127 non-null   object\n",
      " 6   bebida_favorita   2127 non-null   object\n",
      " 7   hobbies           2127 non-null   object\n",
      "dtypes: int64(1), object(7)\n",
      "memory usage: 149.6+ KB\n"
     ]
    }
   ],
   "source": [
    "df_pesquisa.info()"
   ]
  },
  {
   "cell_type": "code",
   "execution_count": 28,
   "metadata": {},
   "outputs": [
    {
     "name": "stdout",
     "output_type": "stream",
     "text": [
      "   cod_pessoa data_coleta     genero data_nascimento animal_estimacao  \\\n",
      "0    10141743  2020-01-01  Masculino      1981-04-25            peixe   \n",
      "1    10141860  2020-01-01   Feminino      1966-01-19            peixe   \n",
      "2    10142548  2020-01-01  Masculino      1973-08-02        tartaruga   \n",
      "3    10142591  2020-01-01  Masculino      1997-03-05             gato   \n",
      "4    10142654  2020-01-01   Feminino      1969-08-05        tartaruga   \n",
      "\n",
      "      clima bebida_favorita             hobbies  idade  \n",
      "0      frio         Cerveja    Praticar esporte     42  \n",
      "1    quente            Café         Assistir TV     58  \n",
      "2      frio            Café          Ler livros     50  \n",
      "3  moderado         Cerveja  Aprender algo novo     26  \n",
      "4  moderado            Café         Assistir TV     54  \n"
     ]
    }
   ],
   "source": [
    "from datetime import datetime\n",
    "from dateutil.relativedelta import relativedelta\n",
    "\n",
    "# Convertendo a coluna 'data_nascimento' para o tipo datetime\n",
    "df_pesquisa['data_nascimento'] = pd.to_datetime(df_pesquisa['data_nascimento'], errors='coerce')\n",
    "\n",
    "# Calculando a idade com base na data atual\n",
    "hoje = datetime.now()\n",
    "df_pesquisa['idade'] = df_pesquisa['data_nascimento'].apply(lambda x: relativedelta(hoje, x).years)\n",
    "\n",
    "# Exibindo o DataFrame atualizado\n",
    "print(df_pesquisa.head())"
   ]
  },
  {
   "cell_type": "code",
   "execution_count": 30,
   "metadata": {},
   "outputs": [
    {
     "data": {
      "text/html": [
       "<div>\n",
       "<style scoped>\n",
       "    .dataframe tbody tr th:only-of-type {\n",
       "        vertical-align: middle;\n",
       "    }\n",
       "\n",
       "    .dataframe tbody tr th {\n",
       "        vertical-align: top;\n",
       "    }\n",
       "\n",
       "    .dataframe thead th {\n",
       "        text-align: right;\n",
       "    }\n",
       "</style>\n",
       "<table border=\"1\" class=\"dataframe\">\n",
       "  <thead>\n",
       "    <tr style=\"text-align: right;\">\n",
       "      <th></th>\n",
       "      <th>cod_pessoa</th>\n",
       "      <th>data_coleta</th>\n",
       "      <th>genero</th>\n",
       "      <th>data_nascimento</th>\n",
       "      <th>animal_estimacao</th>\n",
       "      <th>clima</th>\n",
       "      <th>bebida_favorita</th>\n",
       "      <th>hobbies</th>\n",
       "      <th>idade</th>\n",
       "    </tr>\n",
       "  </thead>\n",
       "  <tbody>\n",
       "    <tr>\n",
       "      <th>0</th>\n",
       "      <td>10141743</td>\n",
       "      <td>2020-01-01</td>\n",
       "      <td>Masculino</td>\n",
       "      <td>1981-04-25</td>\n",
       "      <td>peixe</td>\n",
       "      <td>frio</td>\n",
       "      <td>Cerveja</td>\n",
       "      <td>Praticar esporte</td>\n",
       "      <td>42</td>\n",
       "    </tr>\n",
       "    <tr>\n",
       "      <th>1</th>\n",
       "      <td>10141860</td>\n",
       "      <td>2020-01-01</td>\n",
       "      <td>Feminino</td>\n",
       "      <td>1966-01-19</td>\n",
       "      <td>peixe</td>\n",
       "      <td>quente</td>\n",
       "      <td>Café</td>\n",
       "      <td>Assistir TV</td>\n",
       "      <td>58</td>\n",
       "    </tr>\n",
       "    <tr>\n",
       "      <th>2</th>\n",
       "      <td>10142548</td>\n",
       "      <td>2020-01-01</td>\n",
       "      <td>Masculino</td>\n",
       "      <td>1973-08-02</td>\n",
       "      <td>tartaruga</td>\n",
       "      <td>frio</td>\n",
       "      <td>Café</td>\n",
       "      <td>Ler livros</td>\n",
       "      <td>50</td>\n",
       "    </tr>\n",
       "    <tr>\n",
       "      <th>3</th>\n",
       "      <td>10142591</td>\n",
       "      <td>2020-01-01</td>\n",
       "      <td>Masculino</td>\n",
       "      <td>1997-03-05</td>\n",
       "      <td>gato</td>\n",
       "      <td>moderado</td>\n",
       "      <td>Cerveja</td>\n",
       "      <td>Aprender algo novo</td>\n",
       "      <td>26</td>\n",
       "    </tr>\n",
       "    <tr>\n",
       "      <th>4</th>\n",
       "      <td>10142654</td>\n",
       "      <td>2020-01-01</td>\n",
       "      <td>Feminino</td>\n",
       "      <td>1969-08-05</td>\n",
       "      <td>tartaruga</td>\n",
       "      <td>moderado</td>\n",
       "      <td>Café</td>\n",
       "      <td>Assistir TV</td>\n",
       "      <td>54</td>\n",
       "    </tr>\n",
       "  </tbody>\n",
       "</table>\n",
       "</div>"
      ],
      "text/plain": [
       "   cod_pessoa data_coleta     genero data_nascimento animal_estimacao  \\\n",
       "0    10141743  2020-01-01  Masculino      1981-04-25            peixe   \n",
       "1    10141860  2020-01-01   Feminino      1966-01-19            peixe   \n",
       "2    10142548  2020-01-01  Masculino      1973-08-02        tartaruga   \n",
       "3    10142591  2020-01-01  Masculino      1997-03-05             gato   \n",
       "4    10142654  2020-01-01   Feminino      1969-08-05        tartaruga   \n",
       "\n",
       "      clima bebida_favorita             hobbies  idade  \n",
       "0      frio         Cerveja    Praticar esporte     42  \n",
       "1    quente            Café         Assistir TV     58  \n",
       "2      frio            Café          Ler livros     50  \n",
       "3  moderado         Cerveja  Aprender algo novo     26  \n",
       "4  moderado            Café         Assistir TV     54  "
      ]
     },
     "execution_count": 30,
     "metadata": {},
     "output_type": "execute_result"
    }
   ],
   "source": [
    "\n",
    "df_pesquisa[:5]"
   ]
  },
  {
   "cell_type": "code",
   "execution_count": 31,
   "metadata": {},
   "outputs": [
    {
     "name": "stdout",
     "output_type": "stream",
     "text": [
      "<class 'pandas.core.frame.DataFrame'>\n",
      "Index: 2127 entries, 0 to 5\n",
      "Data columns (total 9 columns):\n",
      " #   Column            Non-Null Count  Dtype         \n",
      "---  ------            --------------  -----         \n",
      " 0   cod_pessoa        2127 non-null   int64         \n",
      " 1   data_coleta       2127 non-null   object        \n",
      " 2   genero            2127 non-null   object        \n",
      " 3   data_nascimento   2127 non-null   datetime64[ns]\n",
      " 4   animal_estimacao  2127 non-null   object        \n",
      " 5   clima             2127 non-null   object        \n",
      " 6   bebida_favorita   2127 non-null   object        \n",
      " 7   hobbies           2127 non-null   object        \n",
      " 8   idade             2127 non-null   int64         \n",
      "dtypes: datetime64[ns](1), int64(2), object(6)\n",
      "memory usage: 166.2+ KB\n"
     ]
    }
   ],
   "source": [
    "df_pesquisa.info()"
   ]
  },
  {
   "cell_type": "markdown",
   "metadata": {},
   "source": [
    "### Respondendo as seguintes perguntas do Desafio:\n",
    "1. Elabore um histograma com 15 barras que represente a distribuição das idades das pessoas que têm afinidade com o clima frio e preferem bebidas quentes como chás. "
   ]
  },
  {
   "cell_type": "code",
   "execution_count": 68,
   "metadata": {},
   "outputs": [
    {
     "data": {
      "image/png": "[encoded data removed]",
      "text/plain": [
       "<Figure size 1000x600 with 1 Axes>"
      ]
     },
     "metadata": {},
     "output_type": "display_data"
    }
   ],
   "source": [
    "# Filtrando pessoas com afinidade com clima frio e preferência por chás\n",
    "filtro_clima_bebida = (df_pesquisa['clima'] == 'frio') & (df_pesquisa['bebida_favorita'] == 'Chá')\n",
    "pessoas_frio_cha = df_pesquisa[filtro_clima_bebida]\n",
    "\n",
    "# Elaborando o histograma\n",
    "plt.figure(figsize=(10, 6))\n",
    "plt.hist(pessoas_frio_cha['idade'], bins=15, color='skyblue', edgecolor='black')\n",
    "plt.title('Distribuição de Idades - Clima Frio e Bebida Quente (Chá)')\n",
    "plt.xlabel('Idade')\n",
    "plt.ylabel('Frequência')\n",
    "plt.grid(axis='y', linestyle='--', alpha=0.7)\n",
    "\n",
    "# Visualizando o histograma\n",
    "plt.show()"
   ]
  },
  {
   "cell_type": "markdown",
   "metadata": {},
   "source": [
    "2. Qual é a proporção entre homens e mulheres que têm afinidade por cachorros e cultivam o hábito de ler livros?"
   ]
  },
  {
   "cell_type": "code",
   "execution_count": 69,
   "metadata": {},
   "outputs": [
    {
     "name": "stdout",
     "output_type": "stream",
     "text": [
      "A proporção entre homens e mulheres que têm afinidade por cachorros e cultivam o hábito de ler livros:\n",
      "Proporção para homens: 64.00%\n",
      "Proporção para mulheres: 36.00%\n"
     ]
    }
   ],
   "source": [
    "# Filtrando homens que atendem aos critérios\n",
    "filtro_homem = (df_pesquisa['genero'] == 'Masculino') & (df_pesquisa['animal_estimacao'] == 'cachorro') & (df_pesquisa['hobbies'] == 'Ler livros')\n",
    "homens = df_pesquisa[filtro_homem].shape[0]\n",
    "\n",
    "# Filtrando mulheres que atendem aos critérios\n",
    "filtro_mulher = (df_pesquisa['genero'] == 'Feminino') & (df_pesquisa['animal_estimacao'] == 'cachorro') & (df_pesquisa['hobbies'] == 'Ler livros')\n",
    "mulheres = df_pesquisa[filtro_mulher].shape[0]\n",
    "\n",
    "# Calculando a proporção\n",
    "proporcao_homem = (homens / (homens + mulheres)) * 100\n",
    "proporcao_mulher = (mulheres / (homens + mulheres)) * 100\n",
    "\n",
    "# Exibindo as proporções\n",
    "print(f'A proporção entre homens e mulheres que têm afinidade por cachorros e cultivam o hábito de ler livros:')\n",
    "print(f'Proporção para homens: {proporcao_homem:.2f}%')\n",
    "print(f'Proporção para mulheres: {proporcao_mulher:.2f}%')"
   ]
  },
  {
   "cell_type": "markdown",
   "metadata": {},
   "source": [
    "3. Qual é a segunda opção de animal de estimação mais preferida entre as mulheres?"
   ]
  },
  {
   "cell_type": "code",
   "execution_count": 70,
   "metadata": {},
   "outputs": [
    {
     "name": "stdout",
     "output_type": "stream",
     "text": [
      "animal_estimacao\n",
      "gato         279\n",
      "peixe        158\n",
      "tartaruga    149\n",
      "cachorro     143\n",
      "Name: count, dtype: int64\n",
      "A segunda opção de animal de estimação mais preferida entre as mulheres é: peixe\n"
     ]
    }
   ],
   "source": [
    "# Filtrando mulheres\n",
    "mulheres = df_pesquisa[df_pesquisa['genero'] == 'Feminino']\n",
    "\n",
    "# Contando a frequência de cada animal de estimação entre as mulheres\n",
    "contagem_animais = mulheres['animal_estimacao'].value_counts()\n",
    "\n",
    "# Exibindo a contagem\n",
    "print(contagem_animais)\n",
    "\n",
    "# Encontrando a segunda opção mais preferida\n",
    "segunda_opcao = contagem_animais.index[1]\n",
    "\n",
    "print(f'A segunda opção de animal de estimação mais preferida entre as mulheres é: {segunda_opcao}')"
   ]
  },
  {
   "cell_type": "markdown",
   "metadata": {},
   "source": [
    "4. Qual é o hobbie menos preferido entre o público masculino?"
   ]
  },
  {
   "cell_type": "code",
   "execution_count": 71,
   "metadata": {},
   "outputs": [
    {
     "name": "stdout",
     "output_type": "stream",
     "text": [
      "hobbies\n",
      "Escutar música        153\n",
      "Pintar quadros        171\n",
      "Assistir TV           173\n",
      "Praticar esporte      175\n",
      "Ler livros            177\n",
      "Escrever              182\n",
      "Aprender algo novo    183\n",
      "Dormir                184\n",
      "Name: count, dtype: int64\n",
      "O hobby menos preferido entre o público masculino é: Escutar música\n"
     ]
    }
   ],
   "source": [
    "# Filtrando o público masculino\n",
    "homens = df_pesquisa[df_pesquisa['genero'] == 'Masculino']\n",
    "\n",
    "# Contando a frequência de cada hobby entre os homens\n",
    "contagem_hobbies = homens['hobbies'].value_counts(ascending=True)\n",
    "\n",
    "# Exibindo a contagem\n",
    "print(contagem_hobbies)\n",
    "\n",
    "# Identificando o hobby menos preferido\n",
    "hobbie_menos_preferido = contagem_hobbies.index[0]\n",
    "\n",
    "print(f'O hobby menos preferido entre o público masculino é: {hobbie_menos_preferido}')"
   ]
  },
  {
   "cell_type": "markdown",
   "metadata": {},
   "source": [
    "5. Qual é a bebida favorita tanto entre mulheres quanto entre homens?"
   ]
  },
  {
   "cell_type": "code",
   "execution_count": 74,
   "metadata": {},
   "outputs": [
    {
     "name": "stdout",
     "output_type": "stream",
     "text": [
      "Cerveja para mulheres e Café para homens.\n"
     ]
    }
   ],
   "source": [
    "# Filtrando mulheres\n",
    "mulheres = df_pesquisa[df_pesquisa['genero'] == 'Feminino']\n",
    "\n",
    "# Filtrando homens\n",
    "homens = df_pesquisa[df_pesquisa['genero'] == 'Masculino']\n",
    "\n",
    "# Identificando a bebida favorita mais comum entre mulheres e homens\n",
    "bebida_mulheres = mulheres['bebida_favorita'].mode().iloc[0]\n",
    "bebida_homens = homens['bebida_favorita'].mode().iloc[0]\n",
    "\n",
    "print(f'{bebida_mulheres} para mulheres e {bebida_homens} para homens.')"
   ]
  },
  {
   "cell_type": "markdown",
   "metadata": {},
   "source": [
    "6. Qual é a idade média dos homens que têm preferência por cerveja e clima quente?"
   ]
  },
  {
   "cell_type": "code",
   "execution_count": 75,
   "metadata": {},
   "outputs": [
    {
     "name": "stdout",
     "output_type": "stream",
     "text": [
      "A idade média dos homens que têm preferência por cerveja e clima quente é: 47.6 anos\n"
     ]
    }
   ],
   "source": [
    "# Filtrando homens com preferência por cerveja e clima quente\n",
    "homens_cerveja_quente = df_pesquisa[(df_pesquisa['genero'] == 'Masculino') & (df_pesquisa['bebida_favorita'] == 'Cerveja') & (df_pesquisa['clima'] == 'quente')]\n",
    "\n",
    "# Calculando a idade média\n",
    "idade_media = homens_cerveja_quente['idade'].mean()\n",
    "\n",
    "print(f'A idade média dos homens que têm preferência por cerveja e clima quente é: {idade_media:.1f} anos')"
   ]
  },
  {
   "cell_type": "markdown",
   "metadata": {},
   "source": [
    "7. Qual é o animal de estimação menos preferido entre as mulheres e quantas mulheres fazem parte desse grupo?"
   ]
  },
  {
   "cell_type": "code",
   "execution_count": 76,
   "metadata": {},
   "outputs": [
    {
     "name": "stdout",
     "output_type": "stream",
     "text": [
      "O animal de estimação menos preferido entre as mulheres é cachorro e 143 mulheres fazem parte desse grupo.\n"
     ]
    }
   ],
   "source": [
    "# Filtrando mulheres\n",
    "mulheres = df_pesquisa[df_pesquisa['genero'] == 'Feminino']\n",
    "\n",
    "# Identificando o animal de estimação menos preferido e o número de mulheres que fazem parte desse grupo\n",
    "animal_menos_preferido = mulheres['animal_estimacao'].value_counts().idxmin()\n",
    "qtd_mulheres_animal_menos_preferido = mulheres['animal_estimacao'].value_counts().min()\n",
    "\n",
    "print(f'O animal de estimação menos preferido entre as mulheres é {animal_menos_preferido} e {qtd_mulheres_animal_menos_preferido} mulheres fazem parte desse grupo.')"
   ]
  },
  {
   "cell_type": "markdown",
   "metadata": {},
   "source": [
    "8. Qual é a desvio padrão de idade das pessoas que têm o hábito de assistir TV como hobby?\n"
   ]
  },
  {
   "cell_type": "code",
   "execution_count": 43,
   "metadata": {},
   "outputs": [
    {
     "name": "stdout",
     "output_type": "stream",
     "text": [
      "O desvio padrão de idade das pessoas que têm o hábito de assistir TV como hobby é: 14.3.\n"
     ]
    }
   ],
   "source": [
    "# Filtrando pessoas que têm o hábito de assistir TV\n",
    "assistir_tv = df_pesquisa[df_pesquisa['hobbies'] == 'Assistir TV']\n",
    "\n",
    "# Calculando o desvio padrão da idade\n",
    "desvio_padrao_idade = assistir_tv['idade'].std()\n",
    "\n",
    "print(f'O desvio padrão de idade das pessoas que têm o hábito de assistir TV como hobby é: {desvio_padrao_idade:.1f}.')\n"
   ]
  },
  {
   "cell_type": "markdown",
   "metadata": {},
   "source": [
    "9. Qual é o clima com a preferência mais alta entre o público entrevistado?"
   ]
  },
  {
   "cell_type": "code",
   "execution_count": 80,
   "metadata": {},
   "outputs": [
    {
     "name": "stdout",
     "output_type": "stream",
     "text": [
      "O clima com a preferência mais alta entre o público entrevistado é: frio.\n"
     ]
    }
   ],
   "source": [
    "# Identificando o clima com a preferência mais alta\n",
    "clima_preferido = df_pesquisa['clima'].mode().iloc[0]\n",
    "\n",
    "print(f'O clima com a preferência mais alta entre o público entrevistado é: {clima_preferido}.')\n"
   ]
  },
  {
   "cell_type": "markdown",
   "metadata": {},
   "source": [
    "10. Qual é a soma total de pessoas que têm preferência por gatos ou cachorros?"
   ]
  },
  {
   "cell_type": "code",
   "execution_count": 78,
   "metadata": {},
   "outputs": [
    {
     "name": "stdout",
     "output_type": "stream",
     "text": [
      "A soma total de pessoas que têm preferência por gatos ou cachorros é: 1278\n"
     ]
    }
   ],
   "source": [
    "# Filtrando pessoas que têm preferência por gatos ou cachorros\n",
    "preferencia_gato_cachorro = df_pesquisa[(df_pesquisa['animal_estimacao'] == 'gato') | (df_pesquisa['animal_estimacao'] == 'cachorro')]\n",
    "\n",
    "# Calculando a soma total\n",
    "soma_total = preferencia_gato_cachorro.shape[0]\n",
    "\n",
    "print(f'A soma total de pessoas que têm preferência por gatos ou cachorros é: {soma_total}')\n"
   ]
  },
  {
   "cell_type": "markdown",
   "metadata": {},
   "source": [
    "Exportando os dados para o Arquivo"
   ]
  },
  {
   "cell_type": "code",
   "execution_count": 83,
   "metadata": {},
   "outputs": [],
   "source": [
    "df_pesquisa.to_csv(DIRETORIO + 'desafio_final.csv', sep='|', encoding='latin-1', index=False)"
   ]
  },
  {
   "cell_type": "code",
   "execution_count": 82,
   "metadata": {},
   "outputs": [],
   "source": [
    "df_pesquisa.to_csv('desafio_final.csv', sep=';', encoding='latin-1', index=False)"
   ]
  }
 ],
 "metadata": {
  "kernelspec": {
   "display_name": "Python 3",
   "language": "python",
   "name": "python3"
  },
  "language_info": {
   "codemirror_mode": {
    "name": "ipython",
    "version": 3
   },
   "file_extension": ".py",
   "mimetype": "text/x-python",
   "name": "python",
   "nbconvert_exporter": "python",
   "pygments_lexer": "ipython3",
   "version": "3.11.7"
  }
 },
 "nbformat": 4,
 "nbformat_minor": 2
}
